{
 "cells": [
  {
   "cell_type": "code",
   "execution_count": 1,
   "metadata": {
    "collapsed": true
   },
   "outputs": [],
   "source": [
    "import numpy as np\n",
    "import matplotlib.pyplot as plt\n",
    "import pickle\n",
    "import os\n",
    "import sys\n",
    "import paynet\n",
    "\n",
    "colors = ['b', 'g', 'r', 'c', 'm', 'y', 'k']\n",
    "markers = ['^', 'o', 'v', 'd', 's'] "
   ]
  },
  {
   "cell_type": "code",
   "execution_count": 2,
   "metadata": {},
   "outputs": [
    {
     "data": {
      "image/png": "[encoded data removed]",
      "text/plain": [
       "<matplotlib.figure.Figure at 0x10b1ebeb8>"
      ]
     },
     "metadata": {},
     "output_type": "display_data"
    }
   ],
   "source": [
    "fname_v = './results/rps/rps1_weights_big%d' # <--- Change this if necessary\n",
    "\n",
    "sizes = [500, 1000, 2000, 5000]\n",
    "tnames = ['0']\n",
    "sample_names = ['0']\n",
    "\n",
    "nplots=0\n",
    "for tname in tnames:\n",
    "    res = []\n",
    "    for size in sizes:\n",
    "        sampled_result = []\n",
    "        for sample_name in sample_names:\n",
    "            # print(tname, size, sample_name)\n",
    "            full = os.path.join(fname_v % size, tname + '_' + sample_name) \n",
    "            \n",
    "            try:\n",
    "                os.listdir(full)\n",
    "            except:\n",
    "                print('%s-%s-%s' %(size, tname, sample_name))\n",
    "                res.append(float('inf'))\n",
    "                continue\n",
    "            all_files = [f for f in os.listdir(full) if os.path.isfile(os.path.join(full, f))]\n",
    "            \n",
    "            latest = os.path.join(full, sorted(all_files)[-1])\n",
    "\n",
    "            with open(latest, 'rb') as f:\n",
    "                p = pickle.load(f)\n",
    "                def getstat(p, monitor):\n",
    "                    # Get the index where the test log loss is the lowest\n",
    "                    mmin = np.argmin(p['val_monitor']['loglosstrend'])\n",
    "                    return np.mean(p['val_monitor'][monitor][mmin])\n",
    "            \n",
    "            # Uncomment the appropriate metric to be plotted\n",
    "            # sampled_result.append(getstat(p, 'vcardprobstrend'))\n",
    "            # sampled_result.append(getstat(p, 'vcardprobs_joint_KL_trend'))\n",
    "            # sampled_result.append(getstat(p, 'payofftrend'))\n",
    "            sampled_result.append(getstat(p, 'vrewards_trend'))\n",
    "            # sampled_result.append(getstat(p, 'msetrend'))\n",
    "            \n",
    "        res.append(tuple(sampled_result))\n",
    "    \n",
    "    means = [np.mean(x) for x in res]\n",
    "    stdevs = [np.std(x) for x in res]\n",
    "    stderr = [stdevs[i]/np.sqrt(len(res[i])) for i in range(len(res))]\n",
    "    plt.plot(sizes, means, marker=markers[nplots], color=colors[nplots], markersize=15, markerfacecolor=\"None\")\n",
    "    \n",
    "    _,caps,_=plt.errorbar(sizes, means , yerr=stderr,\n",
    "            fmt='o', ecolor=colors[nplots], capsize=8,markersize=0)\n",
    "\n",
    "    \n",
    "    nplots+= 1\n",
    "    for cap in caps:\n",
    "        cap.set_markeredgewidth(1)\n",
    "    \n",
    "plt.rc('xtick',labelsize=20)\n",
    "plt.rc('ytick',labelsize=20)\n",
    "plt.xlabel('Number of samples', fontsize=20)\n",
    "plt.ylabel('MSE of parameters', fontsize=20)\n",
    "plt.xscale('log')\n",
    "plt.xticks([500, 1000, 2000, 5000],[500, 1000, 2000, 5000])\n",
    "plt.yscale('log')\n",
    "plt.title('')\n",
    "\n",
    "plt.show()\n",
    "             \n",
    "    "
   ]
  },
  {
   "cell_type": "code",
   "execution_count": null,
   "metadata": {
    "collapsed": true
   },
   "outputs": [],
   "source": []
  }
 ],
 "metadata": {
  "kernelspec": {
   "display_name": "env",
   "language": "python",
   "name": "env"
  },
  "language_info": {
   "codemirror_mode": {
    "name": "ipython",
    "version": 3
   },
   "file_extension": ".py",
   "mimetype": "text/x-python",
   "name": "python",
   "nbconvert_exporter": "python",
   "pygments_lexer": "ipython3",
   "version": "3.5.4"
  }
 },
 "nbformat": 4,
 "nbformat_minor": 2
}
